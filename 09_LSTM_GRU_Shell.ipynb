{
  "nbformat": 4,
  "nbformat_minor": 0,
  "metadata": {
    "colab": {
      "provenance": [],
      "authorship_tag": "ABX9TyM0mMWuKoEVOKQcJTlS9SY9",
      "include_colab_link": true
    },
    "kernelspec": {
      "name": "python3",
      "display_name": "Python 3"
    },
    "language_info": {
      "name": "python"
    }
  },
  "cells": [
    {
      "cell_type": "markdown",
      "metadata": {
        "id": "view-in-github",
        "colab_type": "text"
      },
      "source": [
        "<a href=\"https://colab.research.google.com/github/Lee2ee/Hongong_Machine_Deep/blob/main/09_LSTM_GRU_Shell.ipynb\" target=\"_parent\"><img src=\"https://colab.research.google.com/assets/colab-badge.svg\" alt=\"Open In Colab\"/></a>"
      ]
    },
    {
      "cell_type": "markdown",
      "metadata": {
        "id": "AlaMdWF26k2H"
      },
      "source": [
        "# LSTM과 GRU 셀"
      ]
    },
    {
      "cell_type": "code",
      "execution_count": null,
      "metadata": {
        "id": "3mQSRHivc_9j"
      },
      "outputs": [],
      "source": [
        "import tensorflow as tf\n",
        "import matplotlib.pyplot as plt\n",
        "from tensorflow.keras.datasets import imdb\n",
        "from sklearn.model_selection import train_test_split\n",
        "from tensorflow.keras.preprocessing.sequence import pad_sequences\n",
        "from tensorflow import keras"
      ]
    },
    {
      "cell_type": "code",
      "execution_count": null,
      "metadata": {
        "id": "k7B27ulXdBEu"
      },
      "outputs": [],
      "source": [
        "# 실행마다 동일한 결과를 얻기 위해 케라스에 랜덤 시드를 사용하고 텐서플로 연산을 결정적으로 만듭니다. \n",
        "tf.keras.utils.set_random_seed(42)\n",
        "tf.config.experimental.enable_op_determinism()"
      ]
    },
    {
      "cell_type": "markdown",
      "metadata": {
        "id": "KWi9yl0q6k2N"
      },
      "source": [
        "## LSTM 신경망 훈련하기"
      ]
    },
    {
      "cell_type": "code",
      "execution_count": null,
      "metadata": {
        "id": "XL7x0NCx6k2N",
        "colab": {
          "base_uri": "https://localhost:8080/"
        },
        "outputId": "dc54b6bb-9f92-4492-e5dd-07b22a80a754"
      },
      "outputs": [
        {
          "output_type": "stream",
          "name": "stdout",
          "text": [
            "Downloading data from https://storage.googleapis.com/tensorflow/tf-keras-datasets/imdb.npz\n",
            "17465344/17464789 [==============================] - 0s 0us/step\n",
            "17473536/17464789 [==============================] - 0s 0us/step\n"
          ]
        }
      ],
      "source": [
        "(train_input, train_target), (test_input, test_target) = imdb.load_data(\n",
        "    num_words=500)\n",
        "\n",
        "train_input, val_input, train_target, val_target = train_test_split(\n",
        "    train_input, train_target, test_size=0.2, random_state=42)"
      ]
    },
    {
      "cell_type": "code",
      "execution_count": null,
      "metadata": {
        "id": "5bjJ14QJ6k2O"
      },
      "outputs": [],
      "source": [
        "train_seq = pad_sequences(train_input, maxlen=100)\n",
        "val_seq = pad_sequences(val_input, maxlen=100)"
      ]
    },
    {
      "cell_type": "code",
      "execution_count": null,
      "metadata": {
        "colab": {
          "base_uri": "https://localhost:8080/"
        },
        "id": "uMlTD4zv6k2O",
        "outputId": "f158fe08-40bd-47d7-ba45-bdabe88ec212"
      },
      "outputs": [
        {
          "output_type": "stream",
          "name": "stdout",
          "text": [
            "Model: \"sequential\"\n",
            "_________________________________________________________________\n",
            " Layer (type)                Output Shape              Param #   \n",
            "=================================================================\n",
            " embedding (Embedding)       (None, 100, 16)           8000      \n",
            "                                                                 \n",
            " lstm (LSTM)                 (None, 8)                 800       \n",
            "                                                                 \n",
            " dense (Dense)               (None, 1)                 9         \n",
            "                                                                 \n",
            "=================================================================\n",
            "Total params: 8,809\n",
            "Trainable params: 8,809\n",
            "Non-trainable params: 0\n",
            "_________________________________________________________________\n"
          ]
        }
      ],
      "source": [
        "model = keras.Sequential()\n",
        "\n",
        "model.add(keras.layers.Embedding(500, 16, input_length=100))\n",
        "model.add(keras.layers.LSTM(8))\n",
        "model.add(keras.layers.Dense(1, activation='sigmoid'))\n",
        "\n",
        "model.summary()"
      ]
    },
    {
      "cell_type": "code",
      "execution_count": null,
      "metadata": {
        "colab": {
          "base_uri": "https://localhost:8080/"
        },
        "id": "nCmqOkjI6k2P",
        "outputId": "b2a67ab4-a054-4fe4-aead-d93f4543b79b"
      },
      "outputs": [
        {
          "output_type": "stream",
          "name": "stdout",
          "text": [
            "Epoch 1/100\n",
            "313/313 [==============================] - 15s 37ms/step - loss: 0.6929 - accuracy: 0.5323 - val_loss: 0.6925 - val_accuracy: 0.5726\n",
            "Epoch 2/100\n",
            "313/313 [==============================] - 9s 29ms/step - loss: 0.6919 - accuracy: 0.5972 - val_loss: 0.6912 - val_accuracy: 0.6094\n",
            "Epoch 3/100\n",
            "313/313 [==============================] - 9s 29ms/step - loss: 0.6898 - accuracy: 0.6294 - val_loss: 0.6882 - val_accuracy: 0.6416\n",
            "Epoch 4/100\n",
            "313/313 [==============================] - 9s 29ms/step - loss: 0.6836 - accuracy: 0.6403 - val_loss: 0.6748 - val_accuracy: 0.6042\n",
            "Epoch 5/100\n",
            "313/313 [==============================] - 9s 29ms/step - loss: 0.6516 - accuracy: 0.6451 - val_loss: 0.6272 - val_accuracy: 0.7228\n",
            "Epoch 6/100\n",
            "313/313 [==============================] - 10s 32ms/step - loss: 0.6135 - accuracy: 0.7420 - val_loss: 0.6022 - val_accuracy: 0.7450\n",
            "Epoch 7/100\n",
            "313/313 [==============================] - 9s 29ms/step - loss: 0.5929 - accuracy: 0.7517 - val_loss: 0.5874 - val_accuracy: 0.7494\n",
            "Epoch 8/100\n",
            "313/313 [==============================] - 9s 30ms/step - loss: 0.5739 - accuracy: 0.7623 - val_loss: 0.5673 - val_accuracy: 0.7616\n",
            "Epoch 9/100\n",
            "313/313 [==============================] - 9s 29ms/step - loss: 0.5532 - accuracy: 0.7678 - val_loss: 0.5471 - val_accuracy: 0.7682\n",
            "Epoch 10/100\n",
            "313/313 [==============================] - 9s 29ms/step - loss: 0.5318 - accuracy: 0.7753 - val_loss: 0.5275 - val_accuracy: 0.7720\n",
            "Epoch 11/100\n",
            "313/313 [==============================] - 9s 29ms/step - loss: 0.5127 - accuracy: 0.7814 - val_loss: 0.5105 - val_accuracy: 0.7760\n",
            "Epoch 12/100\n",
            "313/313 [==============================] - 9s 29ms/step - loss: 0.4972 - accuracy: 0.7871 - val_loss: 0.4976 - val_accuracy: 0.7772\n",
            "Epoch 13/100\n",
            "313/313 [==============================] - 9s 29ms/step - loss: 0.4845 - accuracy: 0.7946 - val_loss: 0.4867 - val_accuracy: 0.7888\n",
            "Epoch 14/100\n",
            "313/313 [==============================] - 9s 29ms/step - loss: 0.4738 - accuracy: 0.7976 - val_loss: 0.4786 - val_accuracy: 0.7856\n",
            "Epoch 15/100\n",
            "313/313 [==============================] - 9s 30ms/step - loss: 0.4652 - accuracy: 0.7994 - val_loss: 0.4761 - val_accuracy: 0.7844\n",
            "Epoch 16/100\n",
            "313/313 [==============================] - 10s 30ms/step - loss: 0.4573 - accuracy: 0.8017 - val_loss: 0.4644 - val_accuracy: 0.7930\n",
            "Epoch 17/100\n",
            "313/313 [==============================] - 9s 29ms/step - loss: 0.4503 - accuracy: 0.8032 - val_loss: 0.4604 - val_accuracy: 0.7956\n",
            "Epoch 18/100\n",
            "313/313 [==============================] - 9s 29ms/step - loss: 0.4442 - accuracy: 0.8056 - val_loss: 0.4540 - val_accuracy: 0.7958\n",
            "Epoch 19/100\n",
            "313/313 [==============================] - 9s 30ms/step - loss: 0.4386 - accuracy: 0.8078 - val_loss: 0.4518 - val_accuracy: 0.7958\n",
            "Epoch 20/100\n",
            "313/313 [==============================] - 9s 29ms/step - loss: 0.4336 - accuracy: 0.8093 - val_loss: 0.4471 - val_accuracy: 0.7948\n",
            "Epoch 21/100\n",
            "313/313 [==============================] - 10s 31ms/step - loss: 0.4302 - accuracy: 0.8095 - val_loss: 0.4435 - val_accuracy: 0.7956\n",
            "Epoch 22/100\n",
            "313/313 [==============================] - 9s 29ms/step - loss: 0.4267 - accuracy: 0.8120 - val_loss: 0.4447 - val_accuracy: 0.7974\n",
            "Epoch 23/100\n",
            "313/313 [==============================] - 9s 29ms/step - loss: 0.4240 - accuracy: 0.8120 - val_loss: 0.4406 - val_accuracy: 0.8008\n",
            "Epoch 24/100\n",
            "313/313 [==============================] - 9s 30ms/step - loss: 0.4212 - accuracy: 0.8123 - val_loss: 0.4398 - val_accuracy: 0.7964\n",
            "Epoch 25/100\n",
            "313/313 [==============================] - 9s 29ms/step - loss: 0.4191 - accuracy: 0.8121 - val_loss: 0.4357 - val_accuracy: 0.8008\n",
            "Epoch 26/100\n",
            "313/313 [==============================] - 9s 29ms/step - loss: 0.4172 - accuracy: 0.8134 - val_loss: 0.4354 - val_accuracy: 0.7996\n",
            "Epoch 27/100\n",
            "313/313 [==============================] - 9s 30ms/step - loss: 0.4156 - accuracy: 0.8142 - val_loss: 0.4334 - val_accuracy: 0.8002\n",
            "Epoch 28/100\n",
            "313/313 [==============================] - 9s 29ms/step - loss: 0.4143 - accuracy: 0.8145 - val_loss: 0.4336 - val_accuracy: 0.8014\n",
            "Epoch 29/100\n",
            "313/313 [==============================] - 9s 29ms/step - loss: 0.4127 - accuracy: 0.8138 - val_loss: 0.4352 - val_accuracy: 0.8044\n",
            "Epoch 30/100\n",
            "313/313 [==============================] - 9s 29ms/step - loss: 0.4111 - accuracy: 0.8149 - val_loss: 0.4337 - val_accuracy: 0.7972\n"
          ]
        }
      ],
      "source": [
        "rmsprop = keras.optimizers.RMSprop(learning_rate=1e-4)\n",
        "model.compile(optimizer=rmsprop, loss='binary_crossentropy', \n",
        "              metrics=['accuracy'])\n",
        "\n",
        "checkpoint_cb = keras.callbacks.ModelCheckpoint('best-lstm-model.h5', \n",
        "                                                save_best_only=True)\n",
        "early_stopping_cb = keras.callbacks.EarlyStopping(patience=3,\n",
        "                                                  restore_best_weights=True)\n",
        "\n",
        "history = model.fit(train_seq, train_target, epochs=100, batch_size=64,\n",
        "                    validation_data=(val_seq, val_target),\n",
        "                    callbacks=[checkpoint_cb, early_stopping_cb])"
      ]
    },
    {
      "cell_type": "code",
      "execution_count": null,
      "metadata": {
        "colab": {
          "base_uri": "https://localhost:8080/",
          "height": 279
        },
        "id": "Xl1bliNr6k2Q",
        "outputId": "b11a12ee-e0a8-40e8-910a-2dbbb8034ae9"
      },
      "outputs": [
        {
          "output_type": "display_data",
          "data": {
            "text/plain": [
              "<Figure size 432x288 with 1 Axes>"
            ],
            "image/png": "[encoded data removed]"
          },
          "metadata": {
            "needs_background": "light"
          }
        }
      ],
      "source": [
        "plt.plot(history.history['loss'])\n",
        "plt.plot(history.history['val_loss'])\n",
        "plt.xlabel('epoch')\n",
        "plt.ylabel('loss')\n",
        "plt.legend(['train', 'val'])\n",
        "plt.show()"
      ]
    },
    {
      "cell_type": "markdown",
      "metadata": {
        "id": "ob79h7Kc6k2Q"
      },
      "source": [
        "## 순환 층에 드롭아웃 적용하기"
      ]
    },
    {
      "cell_type": "code",
      "execution_count": null,
      "metadata": {
        "id": "Fr0DUR-Y6k2R"
      },
      "outputs": [],
      "source": [
        "model2 = keras.Sequential()\n",
        "\n",
        "model2.add(keras.layers.Embedding(500, 16, input_length=100))\n",
        "model2.add(keras.layers.LSTM(8, dropout=0.3))\n",
        "model2.add(keras.layers.Dense(1, activation='sigmoid'))"
      ]
    },
    {
      "cell_type": "code",
      "execution_count": 9,
      "metadata": {
        "colab": {
          "base_uri": "https://localhost:8080/"
        },
        "id": "Ap8XxUO46k2R",
        "outputId": "f5e85eb1-ef36-447c-dfd2-f2fd14be94a1"
      },
      "outputs": [
        {
          "metadata": {
            "tags": null
          },
          "name": "stdout",
          "output_type": "stream",
          "text": [
            "Epoch 1/100\n",
            "313/313 [==============================] - 12s 31ms/step - loss: 0.6922 - accuracy: 0.5444 - val_loss: 0.6913 - val_accuracy: 0.5866\n",
            "Epoch 2/100\n",
            "313/313 [==============================] - 10s 31ms/step - loss: 0.6895 - accuracy: 0.6078 - val_loss: 0.6876 - val_accuracy: 0.6286\n",
            "Epoch 3/100\n",
            "313/313 [==============================] - 9s 30ms/step - loss: 0.6773 - accuracy: 0.6223 - val_loss: 0.6594 - val_accuracy: 0.6374\n",
            "Epoch 4/100\n",
            "313/313 [==============================] - 10s 30ms/step - loss: 0.6324 - accuracy: 0.7042 - val_loss: 0.6222 - val_accuracy: 0.7142\n",
            "Epoch 5/100\n",
            "313/313 [==============================] - 9s 30ms/step - loss: 0.6041 - accuracy: 0.7265 - val_loss: 0.5985 - val_accuracy: 0.7220\n",
            "Epoch 6/100\n",
            "313/313 [==============================] - 10s 31ms/step - loss: 0.5869 - accuracy: 0.7337 - val_loss: 0.5803 - val_accuracy: 0.7422\n",
            "Epoch 7/100\n",
            "313/313 [==============================] - 10s 31ms/step - loss: 0.5699 - accuracy: 0.7424 - val_loss: 0.5628 - val_accuracy: 0.7490\n",
            "Epoch 8/100\n",
            "313/313 [==============================] - 10s 31ms/step - loss: 0.5526 - accuracy: 0.7555 - val_loss: 0.5449 - val_accuracy: 0.7592\n",
            "Epoch 9/100\n",
            "313/313 [==============================] - 10s 32ms/step - loss: 0.5365 - accuracy: 0.7639 - val_loss: 0.5295 - val_accuracy: 0.7674\n",
            "Epoch 10/100\n",
            "313/313 [==============================] - 10s 31ms/step - loss: 0.5197 - accuracy: 0.7710 - val_loss: 0.5150 - val_accuracy: 0.7724\n",
            "Epoch 11/100\n",
            "313/313 [==============================] - 10s 31ms/step - loss: 0.5071 - accuracy: 0.7765 - val_loss: 0.5010 - val_accuracy: 0.7842\n",
            "Epoch 12/100\n",
            "313/313 [==============================] - 10s 31ms/step - loss: 0.4953 - accuracy: 0.7820 - val_loss: 0.4899 - val_accuracy: 0.7870\n",
            "Epoch 13/100\n",
            "313/313 [==============================] - 10s 31ms/step - loss: 0.4842 - accuracy: 0.7852 - val_loss: 0.4819 - val_accuracy: 0.7934\n",
            "Epoch 14/100\n",
            "313/313 [==============================] - 10s 31ms/step - loss: 0.4746 - accuracy: 0.7934 - val_loss: 0.4745 - val_accuracy: 0.7906\n",
            "Epoch 15/100\n",
            "313/313 [==============================] - 10s 31ms/step - loss: 0.4658 - accuracy: 0.7962 - val_loss: 0.4722 - val_accuracy: 0.7866\n",
            "Epoch 16/100\n",
            "313/313 [==============================] - 10s 30ms/step - loss: 0.4614 - accuracy: 0.7968 - val_loss: 0.4634 - val_accuracy: 0.7910\n",
            "Epoch 17/100\n",
            "313/313 [==============================] - 10s 31ms/step - loss: 0.4561 - accuracy: 0.7973 - val_loss: 0.4621 - val_accuracy: 0.7888\n",
            "Epoch 18/100\n",
            "313/313 [==============================] - 10s 32ms/step - loss: 0.4514 - accuracy: 0.8000 - val_loss: 0.4553 - val_accuracy: 0.7972\n",
            "Epoch 19/100\n",
            "313/313 [==============================] - 10s 31ms/step - loss: 0.4476 - accuracy: 0.8001 - val_loss: 0.4526 - val_accuracy: 0.7950\n",
            "Epoch 20/100\n",
            "313/313 [==============================] - 10s 31ms/step - loss: 0.4452 - accuracy: 0.8016 - val_loss: 0.4504 - val_accuracy: 0.7958\n",
            "Epoch 21/100\n",
            "313/313 [==============================] - 10s 31ms/step - loss: 0.4403 - accuracy: 0.8026 - val_loss: 0.4486 - val_accuracy: 0.7960\n",
            "Epoch 22/100\n",
            "313/313 [==============================] - 10s 31ms/step - loss: 0.4394 - accuracy: 0.8044 - val_loss: 0.4492 - val_accuracy: 0.7942\n",
            "Epoch 23/100\n",
            "313/313 [==============================] - 10s 31ms/step - loss: 0.4363 - accuracy: 0.8047 - val_loss: 0.4448 - val_accuracy: 0.7978\n",
            "Epoch 24/100\n",
            "313/313 [==============================] - 10s 31ms/step - loss: 0.4344 - accuracy: 0.8039 - val_loss: 0.4443 - val_accuracy: 0.7956\n",
            "Epoch 25/100\n",
            "313/313 [==============================] - 10s 31ms/step - loss: 0.4325 - accuracy: 0.8037 - val_loss: 0.4427 - val_accuracy: 0.7978\n",
            "Epoch 26/100\n",
            "313/313 [==============================] - 10s 31ms/step - loss: 0.4304 - accuracy: 0.8061 - val_loss: 0.4408 - val_accuracy: 0.7990\n",
            "Epoch 27/100\n",
            "313/313 [==============================] - 10s 31ms/step - loss: 0.4276 - accuracy: 0.8091 - val_loss: 0.4395 - val_accuracy: 0.8002\n",
            "Epoch 28/100\n",
            "313/313 [==============================] - 9s 30ms/step - loss: 0.4256 - accuracy: 0.8094 - val_loss: 0.4389 - val_accuracy: 0.7970\n",
            "Epoch 29/100\n",
            "313/313 [==============================] - 9s 30ms/step - loss: 0.4251 - accuracy: 0.8090 - val_loss: 0.4396 - val_accuracy: 0.7986\n",
            "Epoch 30/100\n",
            "313/313 [==============================] - 9s 30ms/step - loss: 0.4257 - accuracy: 0.8070 - val_loss: 0.4388 - val_accuracy: 0.7938\n",
            "Epoch 31/100\n",
            "313/313 [==============================] - 10s 30ms/step - loss: 0.4238 - accuracy: 0.8096 - val_loss: 0.4383 - val_accuracy: 0.7934\n",
            "Epoch 32/100\n",
            "313/313 [==============================] - 9s 30ms/step - loss: 0.4224 - accuracy: 0.8077 - val_loss: 0.4354 - val_accuracy: 0.7964\n",
            "Epoch 33/100\n",
            "313/313 [==============================] - 9s 30ms/step - loss: 0.4226 - accuracy: 0.8065 - val_loss: 0.4355 - val_accuracy: 0.7978\n",
            "Epoch 34/100\n",
            "313/313 [==============================] - 9s 30ms/step - loss: 0.4203 - accuracy: 0.8074 - val_loss: 0.4350 - val_accuracy: 0.7990\n",
            "Epoch 35/100\n",
            "313/313 [==============================] - 9s 30ms/step - loss: 0.4206 - accuracy: 0.8098 - val_loss: 0.4344 - val_accuracy: 0.8004\n",
            "Epoch 36/100\n",
            "313/313 [==============================] - 9s 30ms/step - loss: 0.4187 - accuracy: 0.8090 - val_loss: 0.4334 - val_accuracy: 0.7970\n",
            "Epoch 37/100\n",
            "313/313 [==============================] - 10s 31ms/step - loss: 0.4190 - accuracy: 0.8083 - val_loss: 0.4376 - val_accuracy: 0.7982\n",
            "Epoch 38/100\n",
            "313/313 [==============================] - 9s 30ms/step - loss: 0.4171 - accuracy: 0.8110 - val_loss: 0.4316 - val_accuracy: 0.8024\n",
            "Epoch 39/100\n",
            "313/313 [==============================] - 9s 30ms/step - loss: 0.4164 - accuracy: 0.8102 - val_loss: 0.4306 - val_accuracy: 0.8012\n",
            "Epoch 40/100\n",
            "313/313 [==============================] - 9s 30ms/step - loss: 0.4169 - accuracy: 0.8090 - val_loss: 0.4321 - val_accuracy: 0.7984\n",
            "Epoch 41/100\n",
            "313/313 [==============================] - 9s 30ms/step - loss: 0.4155 - accuracy: 0.8098 - val_loss: 0.4299 - val_accuracy: 0.8004\n",
            "Epoch 42/100\n",
            "313/313 [==============================] - 10s 30ms/step - loss: 0.4135 - accuracy: 0.8119 - val_loss: 0.4302 - val_accuracy: 0.8004\n",
            "Epoch 43/100\n",
            "313/313 [==============================] - 10s 31ms/step - loss: 0.4147 - accuracy: 0.8117 - val_loss: 0.4305 - val_accuracy: 0.8024\n",
            "Epoch 44/100\n",
            "313/313 [==============================] - 10s 32ms/step - loss: 0.4129 - accuracy: 0.8116 - val_loss: 0.4300 - val_accuracy: 0.8000\n"
          ]
        }
      ],
      "source": [
        "rmsprop = keras.optimizers.RMSprop(learning_rate=1e-4)\n",
        "model2.compile(optimizer=rmsprop, loss='binary_crossentropy', \n",
        "               metrics=['accuracy'])\n",
        "\n",
        "checkpoint_cb = keras.callbacks.ModelCheckpoint('best-dropout-model.h5', \n",
        "                                                save_best_only=True)\n",
        "early_stopping_cb = keras.callbacks.EarlyStopping(patience=3,\n",
        "                                                  restore_best_weights=True)\n",
        "\n",
        "history = model2.fit(train_seq, train_target, epochs=100, batch_size=64,\n",
        "                     validation_data=(val_seq, val_target),\n",
        "                     callbacks=[checkpoint_cb, early_stopping_cb])"
      ]
    },
    {
      "cell_type": "code",
      "execution_count": 10,
      "metadata": {
        "id": "Qzwsp3pl6k2R",
        "outputId": "23f1c77a-f8e4-405d-ddcc-ea2a80715ae1",
        "colab": {
          "base_uri": "https://localhost:8080/",
          "height": 279
        }
      },
      "outputs": [
        {
          "data": {
            "image/png": "[encoded data removed]",
            "text/plain": [
              "<Figure size 432x288 with 1 Axes>"
            ]
          },
          "metadata": {},
          "output_type": "display_data"
        }
      ],
      "source": [
        "plt.plot(history.history['loss'])\n",
        "plt.plot(history.history['val_loss'])\n",
        "plt.xlabel('epoch')\n",
        "plt.ylabel('loss')\n",
        "plt.legend(['train', 'val'])\n",
        "plt.show()"
      ]
    },
    {
      "cell_type": "markdown",
      "metadata": {
        "id": "DKtQByM96k2S"
      },
      "source": [
        "## 2개의 층을 연결하기"
      ]
    },
    {
      "cell_type": "code",
      "execution_count": 11,
      "metadata": {
        "id": "YkQboCpD6k2S",
        "outputId": "be4cd03d-7a10-4ffc-dcd2-83103f59c24e",
        "colab": {
          "base_uri": "https://localhost:8080/"
        }
      },
      "outputs": [
        {
          "metadata": {
            "tags": null
          },
          "name": "stdout",
          "output_type": "stream",
          "text": [
            "Model: \"sequential_2\"\n",
            "_________________________________________________________________\n",
            " Layer (type)                Output Shape              Param #   \n",
            "=================================================================\n",
            " embedding_2 (Embedding)     (None, 100, 16)           8000      \n",
            "                                                                 \n",
            " lstm_2 (LSTM)               (None, 100, 8)            800       \n",
            "                                                                 \n",
            " lstm_3 (LSTM)               (None, 8)                 544       \n",
            "                                                                 \n",
            " dense_2 (Dense)             (None, 1)                 9         \n",
            "                                                                 \n",
            "=================================================================\n",
            "Total params: 9,353\n",
            "Trainable params: 9,353\n",
            "Non-trainable params: 0\n",
            "_________________________________________________________________\n"
          ]
        }
      ],
      "source": [
        "model3 = keras.Sequential()\n",
        "\n",
        "model3.add(keras.layers.Embedding(500, 16, input_length=100))\n",
        "model3.add(keras.layers.LSTM(8, dropout=0.3, return_sequences=True))\n",
        "model3.add(keras.layers.LSTM(8, dropout=0.3))\n",
        "model3.add(keras.layers.Dense(1, activation='sigmoid'))\n",
        "\n",
        "model3.summary()"
      ]
    },
    {
      "cell_type": "code",
      "execution_count": null,
      "metadata": {
        "id": "hDk_ffAo6k2S",
        "outputId": "1e9dd991-aeb0-49ab-cf0f-390e81261656",
        "colab": {
          "base_uri": "https://localhost:8080/"
        }
      },
      "outputs": [
        {
          "output_type": "stream",
          "name": "stdout",
          "text": [
            "Epoch 1/100\n",
            "281/313 [=========================>....] - ETA: 1s - loss: 0.6926 - accuracy: 0.5296"
          ]
        }
      ],
      "source": [
        "rmsprop = keras.optimizers.RMSprop(learning_rate=1e-4)\n",
        "model3.compile(optimizer=rmsprop, loss='binary_crossentropy', \n",
        "               metrics=['accuracy'])\n",
        "\n",
        "checkpoint_cb = keras.callbacks.ModelCheckpoint('best-2rnn-model.h5', \n",
        "                                                save_best_only=True)\n",
        "early_stopping_cb = keras.callbacks.EarlyStopping(patience=3,\n",
        "                                                  restore_best_weights=True)\n",
        "\n",
        "history = model3.fit(train_seq, train_target, epochs=100, batch_size=64,\n",
        "                     validation_data=(val_seq, val_target),\n",
        "                     callbacks=[checkpoint_cb, early_stopping_cb])"
      ]
    },
    {
      "cell_type": "code",
      "execution_count": null,
      "metadata": {
        "id": "1paBqczf6k2S"
      },
      "outputs": [],
      "source": [
        "plt.plot(history.history['loss'])\n",
        "plt.plot(history.history['val_loss'])\n",
        "plt.xlabel('epoch')\n",
        "plt.ylabel('loss')\n",
        "plt.legend(['train', 'val'])\n",
        "plt.show()"
      ]
    },
    {
      "cell_type": "markdown",
      "metadata": {
        "id": "Jisn0P9h6k2T"
      },
      "source": [
        "## GRU 신경망 훈련하기"
      ]
    },
    {
      "cell_type": "code",
      "execution_count": null,
      "metadata": {
        "id": "dwYF578d6k2T"
      },
      "outputs": [],
      "source": [
        "model4 = keras.Sequential()\n",
        "\n",
        "model4.add(keras.layers.Embedding(500, 16, input_length=100))\n",
        "model4.add(keras.layers.GRU(8))\n",
        "model4.add(keras.layers.Dense(1, activation='sigmoid'))\n",
        "\n",
        "model4.summary()"
      ]
    },
    {
      "cell_type": "code",
      "execution_count": null,
      "metadata": {
        "id": "j2SfOZ3v6k2U"
      },
      "outputs": [],
      "source": [
        "rmsprop = keras.optimizers.RMSprop(learning_rate=1e-4)\n",
        "model4.compile(optimizer=rmsprop, loss='binary_crossentropy', \n",
        "               metrics=['accuracy'])\n",
        "\n",
        "checkpoint_cb = keras.callbacks.ModelCheckpoint('best-gru-model.h5', \n",
        "                                                save_best_only=True)\n",
        "early_stopping_cb = keras.callbacks.EarlyStopping(patience=3,\n",
        "                                                  restore_best_weights=True)\n",
        "\n",
        "history = model4.fit(train_seq, train_target, epochs=100, batch_size=64,\n",
        "                     validation_data=(val_seq, val_target),\n",
        "                     callbacks=[checkpoint_cb, early_stopping_cb])"
      ]
    },
    {
      "cell_type": "code",
      "execution_count": null,
      "metadata": {
        "id": "3yUJM4nA6k2U"
      },
      "outputs": [],
      "source": [
        "plt.plot(history.history['loss'])\n",
        "plt.plot(history.history['val_loss'])\n",
        "plt.xlabel('epoch')\n",
        "plt.ylabel('loss')\n",
        "plt.legend(['train', 'val'])\n",
        "plt.show()"
      ]
    },
    {
      "cell_type": "markdown",
      "metadata": {
        "id": "Ja3-116b6k2V"
      },
      "source": [
        "## 마무리"
      ]
    },
    {
      "cell_type": "code",
      "execution_count": null,
      "metadata": {
        "id": "-5WtFRN-6k2V",
        "tags": []
      },
      "outputs": [],
      "source": [
        "test_seq = pad_sequences(test_input, maxlen=100)\n",
        "\n",
        "rnn_model = keras.models.load_model('best-2rnn-model.h5')\n",
        "\n",
        "rnn_model.evaluate(test_seq, test_target)"
      ]
    }
  ]
}