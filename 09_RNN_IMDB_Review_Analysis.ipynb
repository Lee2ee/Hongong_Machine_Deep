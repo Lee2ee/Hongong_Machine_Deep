{
  "cells": [
    {
      "cell_type": "markdown",
      "metadata": {
        "id": "view-in-github",
        "colab_type": "text"
      },
      "source": [
        "<a href=\"https://colab.research.google.com/github/Lee2ee/Hongong_Machine_Deep/blob/main/09_RNN_IMDB_Review_Analysis.ipynb\" target=\"_parent\"><img src=\"https://colab.research.google.com/assets/colab-badge.svg\" alt=\"Open In Colab\"/></a>"
      ]
    },
    {
      "cell_type": "markdown",
      "metadata": {
        "id": "MusV5YYT6kQF"
      },
      "source": [
        "# 순환 신경망으로 IMDB 리뷰 분류하기"
      ]
    },
    {
      "cell_type": "code",
      "execution_count": null,
      "metadata": {
        "id": "oI0ulMcCXIhC"
      },
      "outputs": [],
      "source": [
        "import tensorflow as tf\n",
        "import numpy as np\n",
        "import matplotlib.pyplot as plt\n",
        "from tensorflow import keras\n",
        "from tensorflow.keras.datasets import imdb\n",
        "from sklearn.model_selection import train_test_split\n"
      ]
    },
    {
      "cell_type": "code",
      "execution_count": null,
      "metadata": {
        "id": "j-BHcAYPbOM2"
      },
      "outputs": [],
      "source": [
        "# 실행마다 동일한 결과를 얻기 위해 케라스에 랜덤 시드를 사용하고 텐서플로 연산을 결정적으로 만듭니다. \n",
        "tf.keras.utils.set_random_seed(42)\n",
        "tf.config.experimental.enable_op_determinism()"
      ]
    },
    {
      "cell_type": "markdown",
      "metadata": {
        "id": "S1A-DDIQ6kQQ"
      },
      "source": [
        "## IMDB 리뷰 데이터셋"
      ]
    },
    {
      "cell_type": "code",
      "execution_count": null,
      "metadata": {
        "colab": {
          "base_uri": "https://localhost:8080/"
        },
        "id": "sZoZm1ZO6kQR",
        "outputId": "166cc033-0005-451d-e1b2-5c9aa8395866"
      },
      "outputs": [
        {
          "name": "stdout",
          "output_type": "stream",
          "text": [
            "Downloading data from https://storage.googleapis.com/tensorflow/tf-keras-datasets/imdb.npz\n",
            "17465344/17464789 [==============================] - 0s 0us/step\n",
            "17473536/17464789 [==============================] - 0s 0us/step\n"
          ]
        }
      ],
      "source": [
        "(train_input, train_target), (test_input, test_target) = imdb.load_data(\n",
        "    num_words=500)"
      ]
    },
    {
      "cell_type": "code",
      "execution_count": null,
      "metadata": {
        "colab": {
          "base_uri": "https://localhost:8080/"
        },
        "id": "HTFjz6k06kQR",
        "outputId": "2ab504c1-fc85-4f12-a5c5-206316a73aaf"
      },
      "outputs": [
        {
          "name": "stdout",
          "output_type": "stream",
          "text": [
            "(25000,) (25000,)\n"
          ]
        }
      ],
      "source": [
        "print(train_input.shape, test_input.shape)"
      ]
    },
    {
      "cell_type": "code",
      "execution_count": null,
      "metadata": {
        "colab": {
          "base_uri": "https://localhost:8080/"
        },
        "id": "4jMLURzw6kQS",
        "outputId": "e62a78ff-28e9-4192-d85d-b2fc52385bdb"
      },
      "outputs": [
        {
          "name": "stdout",
          "output_type": "stream",
          "text": [
            "218\n"
          ]
        }
      ],
      "source": [
        "print(len(train_input[0]))"
      ]
    },
    {
      "cell_type": "code",
      "execution_count": null,
      "metadata": {
        "colab": {
          "base_uri": "https://localhost:8080/"
        },
        "id": "xdO834PL6kQT",
        "outputId": "d9e30976-b534-48bf-a509-80ef729dd0ce"
      },
      "outputs": [
        {
          "name": "stdout",
          "output_type": "stream",
          "text": [
            "189\n"
          ]
        }
      ],
      "source": [
        "print(len(train_input[1]))"
      ]
    },
    {
      "cell_type": "code",
      "execution_count": null,
      "metadata": {
        "colab": {
          "base_uri": "https://localhost:8080/"
        },
        "id": "QNuzGQ2c6kQT",
        "outputId": "62a37aa8-7279-4f55-b547-1d633840082d"
      },
      "outputs": [
        {
          "name": "stdout",
          "output_type": "stream",
          "text": [
            "[1, 14, 22, 16, 43, 2, 2, 2, 2, 65, 458, 2, 66, 2, 4, 173, 36, 256, 5, 25, 100, 43, 2, 112, 50, 2, 2, 9, 35, 480, 284, 5, 150, 4, 172, 112, 167, 2, 336, 385, 39, 4, 172, 2, 2, 17, 2, 38, 13, 447, 4, 192, 50, 16, 6, 147, 2, 19, 14, 22, 4, 2, 2, 469, 4, 22, 71, 87, 12, 16, 43, 2, 38, 76, 15, 13, 2, 4, 22, 17, 2, 17, 12, 16, 2, 18, 2, 5, 62, 386, 12, 8, 316, 8, 106, 5, 4, 2, 2, 16, 480, 66, 2, 33, 4, 130, 12, 16, 38, 2, 5, 25, 124, 51, 36, 135, 48, 25, 2, 33, 6, 22, 12, 215, 28, 77, 52, 5, 14, 407, 16, 82, 2, 8, 4, 107, 117, 2, 15, 256, 4, 2, 7, 2, 5, 2, 36, 71, 43, 2, 476, 26, 400, 317, 46, 7, 4, 2, 2, 13, 104, 88, 4, 381, 15, 297, 98, 32, 2, 56, 26, 141, 6, 194, 2, 18, 4, 226, 22, 21, 134, 476, 26, 480, 5, 144, 30, 2, 18, 51, 36, 28, 224, 92, 25, 104, 4, 226, 65, 16, 38, 2, 88, 12, 16, 283, 5, 16, 2, 113, 103, 32, 15, 16, 2, 19, 178, 32]\n"
          ]
        }
      ],
      "source": [
        "print(train_input[0])"
      ]
    },
    {
      "cell_type": "code",
      "execution_count": null,
      "metadata": {
        "colab": {
          "base_uri": "https://localhost:8080/"
        },
        "id": "In8Qzltz6kQT",
        "outputId": "5f2c4bd4-29a8-45ed-8910-4889135a9b9c"
      },
      "outputs": [
        {
          "name": "stdout",
          "output_type": "stream",
          "text": [
            "[1 0 0 1 0 0 1 0 1 0 1 0 0 0 0 0 1 1 0 1]\n"
          ]
        }
      ],
      "source": [
        "print(train_target[:20])"
      ]
    },
    {
      "cell_type": "code",
      "execution_count": null,
      "metadata": {
        "id": "0-zjNgBw6kQU"
      },
      "outputs": [],
      "source": [
        "train_input, val_input, train_target, val_target = train_test_split(\n",
        "    train_input, train_target, test_size=0.2, random_state=42)"
      ]
    },
    {
      "cell_type": "code",
      "execution_count": null,
      "metadata": {
        "id": "sRVvgntx6kQU"
      },
      "outputs": [],
      "source": [
        "lengths = np.array([len(x) for x in train_input])"
      ]
    },
    {
      "cell_type": "code",
      "execution_count": null,
      "metadata": {
        "colab": {
          "base_uri": "https://localhost:8080/"
        },
        "id": "p76m_61w6kQU",
        "outputId": "5d1d69c1-f54d-4d20-8f61-444d72788c28"
      },
      "outputs": [
        {
          "name": "stdout",
          "output_type": "stream",
          "text": [
            "239.00925 178.0\n"
          ]
        }
      ],
      "source": [
        "print(np.mean(lengths), np.median(lengths))"
      ]
    },
    {
      "cell_type": "code",
      "execution_count": null,
      "metadata": {
        "colab": {
          "base_uri": "https://localhost:8080/",
          "height": 279
        },
        "id": "TVDrsRYF6kQV",
        "outputId": "2e90b334-a40a-44b2-f047-0bc9c7e15cd9"
      },
      "outputs": [
        {
          "data": {
            "image/png": "[encoded data removed]",
            "text/plain": [
              "<Figure size 432x288 with 1 Axes>"
            ]
          },
          "metadata": {},
          "output_type": "display_data"
        }
      ],
      "source": [
        "plt.hist(lengths)\n",
        "plt.xlabel('length')\n",
        "plt.ylabel('frequency')\n",
        "plt.show()"
      ]
    },
    {
      "cell_type": "code",
      "execution_count": null,
      "metadata": {
        "id": "fbLSFToP6kQV"
      },
      "outputs": [],
      "source": [
        "from tensorflow.keras.preprocessing.sequence import pad_sequences\n",
        "\n",
        "train_seq = pad_sequences(train_input, maxlen=100)"
      ]
    },
    {
      "cell_type": "code",
      "execution_count": null,
      "metadata": {
        "colab": {
          "base_uri": "https://localhost:8080/"
        },
        "id": "3c86x0Yj6kQV",
        "outputId": "7bb5b0bd-f157-4537-b04d-49059557e85e"
      },
      "outputs": [
        {
          "name": "stdout",
          "output_type": "stream",
          "text": [
            "(20000, 100)\n"
          ]
        }
      ],
      "source": [
        "print(train_seq.shape)"
      ]
    },
    {
      "cell_type": "code",
      "execution_count": null,
      "metadata": {
        "colab": {
          "base_uri": "https://localhost:8080/"
        },
        "id": "JuP0QJaU6kQW",
        "outputId": "46de22d9-5bbe-471a-828f-37d0e2735750"
      },
      "outputs": [
        {
          "name": "stdout",
          "output_type": "stream",
          "text": [
            "[ 10   4  20   9   2 364 352   5  45   6   2   2  33 269   8   2 142   2\n",
            "   5   2  17  73  17 204   5   2  19  55   2   2  92  66 104  14  20  93\n",
            "  76   2 151  33   4  58  12 188   2 151  12 215  69 224 142  73 237   6\n",
            "   2   7   2   2 188   2 103  14  31  10  10 451   7   2   5   2  80  91\n",
            "   2  30   2  34  14  20 151  50  26 131  49   2  84  46  50  37  80  79\n",
            "   6   2  46   7  14  20  10  10 470 158]\n"
          ]
        }
      ],
      "source": [
        "print(train_seq[0])"
      ]
    },
    {
      "cell_type": "code",
      "execution_count": null,
      "metadata": {
        "colab": {
          "base_uri": "https://localhost:8080/"
        },
        "id": "6t8kaDji6kQW",
        "outputId": "c2c6f5c0-2156-45d7-f65d-8ad2a0c740e4"
      },
      "outputs": [
        {
          "name": "stdout",
          "output_type": "stream",
          "text": [
            "[6, 2, 46, 7, 14, 20, 10, 10, 470, 158]\n"
          ]
        }
      ],
      "source": [
        "print(train_input[0][-10:])"
      ]
    },
    {
      "cell_type": "code",
      "execution_count": null,
      "metadata": {
        "colab": {
          "base_uri": "https://localhost:8080/"
        },
        "id": "Emmoztwa6kQX",
        "outputId": "a8842d42-0822-46ad-d802-1cd95faf326a",
        "scrolled": true
      },
      "outputs": [
        {
          "name": "stdout",
          "output_type": "stream",
          "text": [
            "[  0   0   0   0   1   2 195  19  49   2   2 190   4   2 352   2 183  10\n",
            "  10  13  82  79   4   2  36  71 269   8   2  25  19  49   7   4   2   2\n",
            "   2   2   2  10  10  48  25  40   2  11   2   2  40   2   2   5   4   2\n",
            "   2  95  14 238  56 129   2  10  10  21   2  94 364 352   2   2  11 190\n",
            "  24 484   2   7  94 205 405  10  10  87   2  34  49   2   7   2   2   2\n",
            "   2   2 290   2  46  48  64  18   4   2]\n"
          ]
        }
      ],
      "source": [
        "print(train_seq[5])"
      ]
    },
    {
      "cell_type": "code",
      "execution_count": null,
      "metadata": {
        "id": "ZeFmsjOd6kQX"
      },
      "outputs": [],
      "source": [
        "val_seq = pad_sequences(val_input, maxlen=100)"
      ]
    },
    {
      "cell_type": "markdown",
      "metadata": {
        "id": "9xab0nu_6kQX"
      },
      "source": [
        "## 순환 신경망 만들기"
      ]
    },
    {
      "cell_type": "code",
      "execution_count": null,
      "metadata": {
        "id": "45BtHGKX6kQX"
      },
      "outputs": [],
      "source": [
        "model = keras.Sequential()\n",
        "\n",
        "model.add(keras.layers.SimpleRNN(8, input_shape=(100, 500)))\n",
        "model.add(keras.layers.Dense(1, activation='sigmoid'))"
      ]
    },
    {
      "cell_type": "code",
      "execution_count": null,
      "metadata": {
        "id": "oXIWyOuw6kQY"
      },
      "outputs": [],
      "source": [
        "train_oh = keras.utils.to_categorical(train_seq)"
      ]
    },
    {
      "cell_type": "code",
      "execution_count": null,
      "metadata": {
        "colab": {
          "base_uri": "https://localhost:8080/"
        },
        "id": "VD94WiRT6kQY",
        "outputId": "17c12caf-dcb5-4a34-bffd-0555238709ce"
      },
      "outputs": [
        {
          "name": "stdout",
          "output_type": "stream",
          "text": [
            "(20000, 100, 500)\n"
          ]
        }
      ],
      "source": [
        "print(train_oh.shape)"
      ]
    },
    {
      "cell_type": "code",
      "execution_count": null,
      "metadata": {
        "colab": {
          "base_uri": "https://localhost:8080/"
        },
        "id": "VIVSHwJg6kQY",
        "outputId": "118f6445-c4dc-4912-ba61-ddd3da69fe43"
      },
      "outputs": [
        {
          "name": "stdout",
          "output_type": "stream",
          "text": [
            "[0. 0. 0. 0. 0. 0. 0. 0. 0. 0. 1. 0.]\n"
          ]
        }
      ],
      "source": [
        "print(train_oh[0][0][:12])"
      ]
    },
    {
      "cell_type": "code",
      "execution_count": null,
      "metadata": {
        "colab": {
          "base_uri": "https://localhost:8080/"
        },
        "id": "CP3ivii46kQZ",
        "outputId": "b20abdfb-e2f5-4dda-8814-1888339321e8"
      },
      "outputs": [
        {
          "name": "stdout",
          "output_type": "stream",
          "text": [
            "1.0\n"
          ]
        }
      ],
      "source": [
        "print(np.sum(train_oh[0][0]))"
      ]
    },
    {
      "cell_type": "code",
      "execution_count": null,
      "metadata": {
        "id": "vgijH6m26kQZ"
      },
      "outputs": [],
      "source": [
        "val_oh = keras.utils.to_categorical(val_seq)"
      ]
    },
    {
      "cell_type": "code",
      "execution_count": null,
      "metadata": {
        "colab": {
          "base_uri": "https://localhost:8080/"
        },
        "id": "0V0Svpuf6kQZ",
        "outputId": "ec92ecd0-7242-4214-dff3-aeb12eef2f0c"
      },
      "outputs": [
        {
          "name": "stdout",
          "output_type": "stream",
          "text": [
            "Model: \"sequential\"\n",
            "_________________________________________________________________\n",
            " Layer (type)                Output Shape              Param #   \n",
            "=================================================================\n",
            " simple_rnn (SimpleRNN)      (None, 8)                 4072      \n",
            "                                                                 \n",
            " dense (Dense)               (None, 1)                 9         \n",
            "                                                                 \n",
            "=================================================================\n",
            "Total params: 4,081\n",
            "Trainable params: 4,081\n",
            "Non-trainable params: 0\n",
            "_________________________________________________________________\n"
          ]
        }
      ],
      "source": [
        "model.summary()"
      ]
    },
    {
      "cell_type": "markdown",
      "metadata": {
        "id": "S22Hc-7L6kQZ"
      },
      "source": [
        "## 순환 신경망 훈련하기"
      ]
    },
    {
      "cell_type": "code",
      "execution_count": null,
      "metadata": {
        "colab": {
          "background_save": true,
          "base_uri": "https://localhost:8080/"
        },
        "id": "YcwM299t6kQZ",
        "outputId": "e94635f4-d865-4979-c703-1a2bad9ac841"
      },
      "outputs": [
        {
          "name": "stdout",
          "output_type": "stream",
          "text": [
            "Epoch 1/100\n",
            "313/313 [==============================] - 13s 35ms/step - loss: 0.6989 - accuracy: 0.5041 - val_loss: 0.6978 - val_accuracy: 0.5038\n",
            "Epoch 2/100\n",
            "313/313 [==============================] - 11s 34ms/step - loss: 0.6946 - accuracy: 0.5102 - val_loss: 0.6949 - val_accuracy: 0.5102\n",
            "Epoch 3/100\n",
            "313/313 [==============================] - 11s 34ms/step - loss: 0.6920 - accuracy: 0.5200 - val_loss: 0.6930 - val_accuracy: 0.5146\n",
            "Epoch 4/100\n",
            "313/313 [==============================] - 11s 34ms/step - loss: 0.6901 - accuracy: 0.5302 - val_loss: 0.6916 - val_accuracy: 0.5230\n",
            "Epoch 5/100\n",
            "313/313 [==============================] - 11s 37ms/step - loss: 0.6883 - accuracy: 0.5408 - val_loss: 0.6905 - val_accuracy: 0.5270\n",
            "Epoch 6/100\n",
            "313/313 [==============================] - 11s 34ms/step - loss: 0.6866 - accuracy: 0.5472 - val_loss: 0.6894 - val_accuracy: 0.5356\n",
            "Epoch 7/100\n",
            "313/313 [==============================] - 11s 34ms/step - loss: 0.6845 - accuracy: 0.5563 - val_loss: 0.6880 - val_accuracy: 0.5416\n",
            "Epoch 8/100\n",
            "313/313 [==============================] - 11s 34ms/step - loss: 0.6819 - accuracy: 0.5659 - val_loss: 0.6856 - val_accuracy: 0.5482\n",
            "Epoch 9/100\n",
            "313/313 [==============================] - 11s 35ms/step - loss: 0.6777 - accuracy: 0.5828 - val_loss: 0.6807 - val_accuracy: 0.5726\n",
            "Epoch 10/100\n",
            "313/313 [==============================] - 11s 34ms/step - loss: 0.6614 - accuracy: 0.6260 - val_loss: 0.6585 - val_accuracy: 0.6240\n",
            "Epoch 11/100\n",
            "313/313 [==============================] - 11s 34ms/step - loss: 0.6407 - accuracy: 0.6651 - val_loss: 0.6420 - val_accuracy: 0.6598\n",
            "Epoch 12/100\n",
            "313/313 [==============================] - 11s 34ms/step - loss: 0.6272 - accuracy: 0.6860 - val_loss: 0.6307 - val_accuracy: 0.6720\n",
            "Epoch 13/100\n",
            "313/313 [==============================] - 11s 34ms/step - loss: 0.6142 - accuracy: 0.6969 - val_loss: 0.6195 - val_accuracy: 0.6842\n",
            "Epoch 14/100\n",
            "313/313 [==============================] - 11s 34ms/step - loss: 0.6010 - accuracy: 0.7111 - val_loss: 0.6112 - val_accuracy: 0.6866\n",
            "Epoch 15/100\n",
            "313/313 [==============================] - 11s 35ms/step - loss: 0.5887 - accuracy: 0.7206 - val_loss: 0.5965 - val_accuracy: 0.7078\n",
            "Epoch 16/100\n",
            "313/313 [==============================] - 11s 35ms/step - loss: 0.5760 - accuracy: 0.7316 - val_loss: 0.5873 - val_accuracy: 0.7096\n",
            "Epoch 17/100\n",
            "313/313 [==============================] - 11s 35ms/step - loss: 0.5655 - accuracy: 0.7380 - val_loss: 0.5807 - val_accuracy: 0.7106\n",
            "Epoch 18/100\n",
            "313/313 [==============================] - 11s 34ms/step - loss: 0.5552 - accuracy: 0.7441 - val_loss: 0.5657 - val_accuracy: 0.7306\n",
            "Epoch 19/100\n",
            "313/313 [==============================] - 11s 34ms/step - loss: 0.5449 - accuracy: 0.7503 - val_loss: 0.5602 - val_accuracy: 0.7290\n",
            "Epoch 20/100\n",
            "313/313 [==============================] - 11s 34ms/step - loss: 0.5348 - accuracy: 0.7558 - val_loss: 0.5470 - val_accuracy: 0.7424\n",
            "Epoch 21/100\n",
            "313/313 [==============================] - 11s 34ms/step - loss: 0.5261 - accuracy: 0.7604 - val_loss: 0.5411 - val_accuracy: 0.7446\n",
            "Epoch 22/100\n",
            "313/313 [==============================] - 11s 34ms/step - loss: 0.5173 - accuracy: 0.7654 - val_loss: 0.5298 - val_accuracy: 0.7556\n",
            "Epoch 23/100\n",
            "313/313 [==============================] - 11s 35ms/step - loss: 0.5101 - accuracy: 0.7689 - val_loss: 0.5343 - val_accuracy: 0.7476\n",
            "Epoch 24/100\n",
            "313/313 [==============================] - 11s 34ms/step - loss: 0.5031 - accuracy: 0.7723 - val_loss: 0.5213 - val_accuracy: 0.7554\n",
            "Epoch 25/100\n",
            "313/313 [==============================] - 11s 37ms/step - loss: 0.4985 - accuracy: 0.7735 - val_loss: 0.5221 - val_accuracy: 0.7548\n",
            "Epoch 26/100\n",
            "313/313 [==============================] - 11s 35ms/step - loss: 0.4894 - accuracy: 0.7811 - val_loss: 0.5214 - val_accuracy: 0.7506\n",
            "Epoch 27/100\n",
            "313/313 [==============================] - 11s 34ms/step - loss: 0.4851 - accuracy: 0.7818 - val_loss: 0.5093 - val_accuracy: 0.7596\n",
            "Epoch 28/100\n",
            "313/313 [==============================] - 11s 34ms/step - loss: 0.4798 - accuracy: 0.7855 - val_loss: 0.5191 - val_accuracy: 0.7518\n",
            "Epoch 29/100\n",
            "313/313 [==============================] - 11s 34ms/step - loss: 0.4762 - accuracy: 0.7869 - val_loss: 0.5048 - val_accuracy: 0.7606\n",
            "Epoch 30/100\n",
            "313/313 [==============================] - 11s 34ms/step - loss: 0.4706 - accuracy: 0.7886 - val_loss: 0.5015 - val_accuracy: 0.7602\n",
            "Epoch 31/100\n",
            "313/313 [==============================] - 11s 34ms/step - loss: 0.4674 - accuracy: 0.7909 - val_loss: 0.5016 - val_accuracy: 0.7656\n",
            "Epoch 32/100\n",
            "313/313 [==============================] - 11s 34ms/step - loss: 0.4627 - accuracy: 0.7942 - val_loss: 0.4953 - val_accuracy: 0.7674\n",
            "Epoch 33/100\n",
            "313/313 [==============================] - 11s 35ms/step - loss: 0.4584 - accuracy: 0.7978 - val_loss: 0.4932 - val_accuracy: 0.7648\n",
            "Epoch 34/100\n",
            "313/313 [==============================] - 11s 35ms/step - loss: 0.4567 - accuracy: 0.7967 - val_loss: 0.4939 - val_accuracy: 0.7638\n",
            "Epoch 35/100\n",
            "313/313 [==============================] - 11s 34ms/step - loss: 0.4527 - accuracy: 0.8016 - val_loss: 0.4893 - val_accuracy: 0.7712\n",
            "Epoch 36/100\n",
            "313/313 [==============================] - 11s 34ms/step - loss: 0.4509 - accuracy: 0.8015 - val_loss: 0.4875 - val_accuracy: 0.7726\n",
            "Epoch 37/100\n",
            "313/313 [==============================] - 11s 34ms/step - loss: 0.4474 - accuracy: 0.8033 - val_loss: 0.4899 - val_accuracy: 0.7656\n",
            "Epoch 38/100\n",
            "313/313 [==============================] - 11s 34ms/step - loss: 0.4459 - accuracy: 0.8029 - val_loss: 0.4841 - val_accuracy: 0.7706\n",
            "Epoch 39/100\n",
            "313/313 [==============================] - 11s 34ms/step - loss: 0.4427 - accuracy: 0.8065 - val_loss: 0.4809 - val_accuracy: 0.7774\n",
            "Epoch 40/100\n",
            "313/313 [==============================] - 11s 34ms/step - loss: 0.4405 - accuracy: 0.8069 - val_loss: 0.4883 - val_accuracy: 0.7716\n",
            "Epoch 41/100\n",
            "313/313 [==============================] - 13s 41ms/step - loss: 0.4387 - accuracy: 0.8077 - val_loss: 0.4781 - val_accuracy: 0.7786\n",
            "Epoch 42/100\n",
            "313/313 [==============================] - 13s 41ms/step - loss: 0.4367 - accuracy: 0.8098 - val_loss: 0.4808 - val_accuracy: 0.7776\n",
            "Epoch 43/100\n",
            "313/313 [==============================] - 12s 40ms/step - loss: 0.4351 - accuracy: 0.8090 - val_loss: 0.4786 - val_accuracy: 0.7804\n",
            "Epoch 44/100\n",
            "313/313 [==============================] - 12s 40ms/step - loss: 0.4324 - accuracy: 0.8106 - val_loss: 0.4766 - val_accuracy: 0.7736\n",
            "Epoch 45/100\n",
            "313/313 [==============================] - 13s 40ms/step - loss: 0.4318 - accuracy: 0.8115 - val_loss: 0.4763 - val_accuracy: 0.7814\n",
            "Epoch 46/100\n",
            "313/313 [==============================] - 12s 40ms/step - loss: 0.4295 - accuracy: 0.8126 - val_loss: 0.4734 - val_accuracy: 0.7794\n",
            "Epoch 47/100\n",
            "313/313 [==============================] - 12s 40ms/step - loss: 0.4287 - accuracy: 0.8140 - val_loss: 0.4741 - val_accuracy: 0.7742\n",
            "Epoch 48/100\n",
            "313/313 [==============================] - 12s 40ms/step - loss: 0.4269 - accuracy: 0.8136 - val_loss: 0.4718 - val_accuracy: 0.7798\n",
            "Epoch 49/100\n",
            "313/313 [==============================] - 13s 40ms/step - loss: 0.4258 - accuracy: 0.8149 - val_loss: 0.4701 - val_accuracy: 0.7794\n",
            "Epoch 50/100\n",
            "313/313 [==============================] - 13s 41ms/step - loss: 0.4241 - accuracy: 0.8164 - val_loss: 0.4688 - val_accuracy: 0.7798\n",
            "Epoch 51/100\n",
            "313/313 [==============================] - 12s 40ms/step - loss: 0.4227 - accuracy: 0.8169 - val_loss: 0.4696 - val_accuracy: 0.7822\n",
            "Epoch 52/100\n",
            "313/313 [==============================] - 13s 41ms/step - loss: 0.4213 - accuracy: 0.8192 - val_loss: 0.4681 - val_accuracy: 0.7796\n",
            "Epoch 53/100\n",
            "313/313 [==============================] - 13s 41ms/step - loss: 0.4202 - accuracy: 0.8183 - val_loss: 0.4780 - val_accuracy: 0.7770\n",
            "Epoch 54/100\n",
            "313/313 [==============================] - 13s 41ms/step - loss: 0.4193 - accuracy: 0.8201 - val_loss: 0.4681 - val_accuracy: 0.7818\n",
            "Epoch 55/100\n",
            "313/313 [==============================] - 12s 40ms/step - loss: 0.4178 - accuracy: 0.8199 - val_loss: 0.4648 - val_accuracy: 0.7818\n",
            "Epoch 56/100\n",
            "313/313 [==============================] - 13s 41ms/step - loss: 0.4171 - accuracy: 0.8197 - val_loss: 0.4650 - val_accuracy: 0.7806\n",
            "Epoch 57/100\n",
            "313/313 [==============================] - 13s 40ms/step - loss: 0.4155 - accuracy: 0.8192 - val_loss: 0.4646 - val_accuracy: 0.7816\n",
            "Epoch 58/100\n",
            "313/313 [==============================] - 13s 40ms/step - loss: 0.4141 - accuracy: 0.8202 - val_loss: 0.4650 - val_accuracy: 0.7828\n",
            "Epoch 59/100\n",
            "313/313 [==============================] - 13s 40ms/step - loss: 0.4133 - accuracy: 0.8228 - val_loss: 0.4669 - val_accuracy: 0.7850\n",
            "Epoch 60/100\n",
            "313/313 [==============================] - 12s 40ms/step - loss: 0.4122 - accuracy: 0.8231 - val_loss: 0.4634 - val_accuracy: 0.7840\n",
            "Epoch 61/100\n",
            "313/313 [==============================] - 13s 41ms/step - loss: 0.4115 - accuracy: 0.8225 - val_loss: 0.4614 - val_accuracy: 0.7834\n",
            "Epoch 62/100\n",
            "313/313 [==============================] - 13s 41ms/step - loss: 0.4104 - accuracy: 0.8240 - val_loss: 0.4612 - val_accuracy: 0.7836\n",
            "Epoch 63/100\n",
            "313/313 [==============================] - 13s 40ms/step - loss: 0.4091 - accuracy: 0.8253 - val_loss: 0.4637 - val_accuracy: 0.7856\n",
            "Epoch 64/100\n",
            "313/313 [==============================] - 13s 41ms/step - loss: 0.4079 - accuracy: 0.8249 - val_loss: 0.4614 - val_accuracy: 0.7852\n",
            "Epoch 65/100\n",
            "313/313 [==============================] - 13s 41ms/step - loss: 0.4069 - accuracy: 0.8257 - val_loss: 0.4623 - val_accuracy: 0.7846\n"
          ]
        }
      ],
      "source": [
        "rmsprop = keras.optimizers.RMSprop(learning_rate=1e-4)\n",
        "model.compile(optimizer=rmsprop, loss='binary_crossentropy', \n",
        "              metrics=['accuracy'])\n",
        "\n",
        "checkpoint_cb = keras.callbacks.ModelCheckpoint('best-simplernn-model.h5', \n",
        "                                                save_best_only=True)\n",
        "early_stopping_cb = keras.callbacks.EarlyStopping(patience=3,\n",
        "                                                  restore_best_weights=True)\n",
        "\n",
        "history = model.fit(train_oh, train_target, epochs=100, batch_size=64,\n",
        "                    validation_data=(val_oh, val_target),\n",
        "                    callbacks=[checkpoint_cb, early_stopping_cb])"
      ]
    },
    {
      "cell_type": "code",
      "execution_count": null,
      "metadata": {
        "colab": {
          "background_save": true
        },
        "id": "YS_5tIG26kQa",
        "outputId": "43b0d089-2d3c-46e4-d358-bbfb6e560b23"
      },
      "outputs": [
        {
          "data": {
            "image/png": "[encoded data removed]",
            "text/plain": [
              "<Figure size 432x288 with 1 Axes>"
            ]
          },
          "metadata": {},
          "output_type": "display_data"
        }
      ],
      "source": [
        "plt.plot(history.history['loss'])\n",
        "plt.plot(history.history['val_loss'])\n",
        "plt.xlabel('epoch')\n",
        "plt.ylabel('loss')\n",
        "plt.legend(['train', 'val'])\n",
        "plt.show()"
      ]
    },
    {
      "cell_type": "markdown",
      "metadata": {
        "id": "K_U_lVie6kQa"
      },
      "source": [
        "## 단어 임베딩을 사용하기"
      ]
    },
    {
      "cell_type": "code",
      "execution_count": null,
      "metadata": {
        "colab": {
          "background_save": true
        },
        "id": "Ofl-Ifev6kQa",
        "outputId": "f122fa07-dc3c-4d24-931a-0ff18307038c"
      },
      "outputs": [
        {
          "name": "stdout",
          "output_type": "stream",
          "text": [
            "Model: \"sequential_1\"\n",
            "_________________________________________________________________\n",
            " Layer (type)                Output Shape              Param #   \n",
            "=================================================================\n",
            " embedding (Embedding)       (None, 100, 16)           8000      \n",
            "                                                                 \n",
            " simple_rnn_1 (SimpleRNN)    (None, 8)                 200       \n",
            "                                                                 \n",
            " dense_1 (Dense)             (None, 1)                 9         \n",
            "                                                                 \n",
            "=================================================================\n",
            "Total params: 8,209\n",
            "Trainable params: 8,209\n",
            "Non-trainable params: 0\n",
            "_________________________________________________________________\n"
          ]
        }
      ],
      "source": [
        "model2 = keras.Sequential()\n",
        "\n",
        "model2.add(keras.layers.Embedding(500, 16, input_length=100))\n",
        "model2.add(keras.layers.SimpleRNN(8))\n",
        "model2.add(keras.layers.Dense(1, activation='sigmoid'))\n",
        "\n",
        "model2.summary()"
      ]
    },
    {
      "cell_type": "code",
      "execution_count": null,
      "metadata": {
        "colab": {
          "background_save": true
        },
        "id": "78TUrJAs6kQa",
        "outputId": "2a13c5eb-6bf3-4687-a0e7-23ef59550ae6"
      },
      "outputs": [
        {
          "name": "stdout",
          "output_type": "stream",
          "text": [
            "Epoch 1/100\n",
            "313/313 [==============================] - 6s 16ms/step - loss: 0.6949 - accuracy: 0.5066 - val_loss: 0.6933 - val_accuracy: 0.5052\n",
            "Epoch 2/100\n",
            "313/313 [==============================] - 5s 15ms/step - loss: 0.6914 - accuracy: 0.5254 - val_loss: 0.6914 - val_accuracy: 0.5242\n",
            "Epoch 3/100\n",
            "313/313 [==============================] - 5s 15ms/step - loss: 0.6888 - accuracy: 0.5439 - val_loss: 0.6877 - val_accuracy: 0.5494\n",
            "Epoch 4/100\n",
            "313/313 [==============================] - 5s 15ms/step - loss: 0.6793 - accuracy: 0.6054 - val_loss: 0.6740 - val_accuracy: 0.6296\n",
            "Epoch 5/100\n",
            "313/313 [==============================] - 5s 15ms/step - loss: 0.6614 - accuracy: 0.6688 - val_loss: 0.6551 - val_accuracy: 0.6850\n",
            "Epoch 6/100\n",
            "313/313 [==============================] - 4s 14ms/step - loss: 0.6403 - accuracy: 0.7053 - val_loss: 0.6353 - val_accuracy: 0.7028\n",
            "Epoch 7/100\n",
            "313/313 [==============================] - 4s 14ms/step - loss: 0.6204 - accuracy: 0.7261 - val_loss: 0.6174 - val_accuracy: 0.7166\n",
            "Epoch 8/100\n",
            "313/313 [==============================] - 4s 14ms/step - loss: 0.6020 - accuracy: 0.7384 - val_loss: 0.6006 - val_accuracy: 0.7338\n",
            "Epoch 9/100\n",
            "313/313 [==============================] - 4s 14ms/step - loss: 0.5854 - accuracy: 0.7523 - val_loss: 0.5933 - val_accuracy: 0.7340\n",
            "Epoch 10/100\n",
            "313/313 [==============================] - 4s 14ms/step - loss: 0.5698 - accuracy: 0.7631 - val_loss: 0.5753 - val_accuracy: 0.7462\n",
            "Epoch 11/100\n",
            "313/313 [==============================] - 4s 14ms/step - loss: 0.5550 - accuracy: 0.7714 - val_loss: 0.5625 - val_accuracy: 0.7604\n",
            "Epoch 12/100\n",
            "313/313 [==============================] - 5s 14ms/step - loss: 0.5412 - accuracy: 0.7783 - val_loss: 0.5496 - val_accuracy: 0.7598\n",
            "Epoch 13/100\n",
            "313/313 [==============================] - 5s 15ms/step - loss: 0.5292 - accuracy: 0.7824 - val_loss: 0.5400 - val_accuracy: 0.7692\n",
            "Epoch 14/100\n",
            "313/313 [==============================] - 5s 14ms/step - loss: 0.5173 - accuracy: 0.7894 - val_loss: 0.5306 - val_accuracy: 0.7680\n",
            "Epoch 15/100\n",
            "313/313 [==============================] - 4s 14ms/step - loss: 0.5063 - accuracy: 0.7914 - val_loss: 0.5231 - val_accuracy: 0.7714\n",
            "Epoch 16/100\n",
            "313/313 [==============================] - 5s 14ms/step - loss: 0.4959 - accuracy: 0.7972 - val_loss: 0.5135 - val_accuracy: 0.7740\n",
            "Epoch 17/100\n",
            "313/313 [==============================] - 4s 14ms/step - loss: 0.4860 - accuracy: 0.8004 - val_loss: 0.5192 - val_accuracy: 0.7622\n",
            "Epoch 18/100\n",
            "313/313 [==============================] - 5s 14ms/step - loss: 0.4780 - accuracy: 0.8022 - val_loss: 0.5048 - val_accuracy: 0.7750\n",
            "Epoch 19/100\n",
            "313/313 [==============================] - 4s 14ms/step - loss: 0.4693 - accuracy: 0.8051 - val_loss: 0.4975 - val_accuracy: 0.7766\n",
            "Epoch 20/100\n",
            "313/313 [==============================] - 5s 15ms/step - loss: 0.4621 - accuracy: 0.8066 - val_loss: 0.4903 - val_accuracy: 0.7804\n",
            "Epoch 21/100\n",
            "313/313 [==============================] - 5s 14ms/step - loss: 0.4561 - accuracy: 0.8088 - val_loss: 0.4857 - val_accuracy: 0.7814\n",
            "Epoch 22/100\n",
            "313/313 [==============================] - 5s 14ms/step - loss: 0.4501 - accuracy: 0.8105 - val_loss: 0.4838 - val_accuracy: 0.7776\n",
            "Epoch 23/100\n",
            "313/313 [==============================] - 5s 15ms/step - loss: 0.4443 - accuracy: 0.8127 - val_loss: 0.4799 - val_accuracy: 0.7838\n",
            "Epoch 24/100\n",
            "313/313 [==============================] - 5s 15ms/step - loss: 0.4389 - accuracy: 0.8136 - val_loss: 0.4797 - val_accuracy: 0.7798\n",
            "Epoch 25/100\n",
            "313/313 [==============================] - 5s 15ms/step - loss: 0.4357 - accuracy: 0.8161 - val_loss: 0.4768 - val_accuracy: 0.7822\n",
            "Epoch 26/100\n",
            "313/313 [==============================] - 5s 14ms/step - loss: 0.4305 - accuracy: 0.8188 - val_loss: 0.4781 - val_accuracy: 0.7772\n",
            "Epoch 27/100\n",
            "313/313 [==============================] - 4s 14ms/step - loss: 0.4275 - accuracy: 0.8194 - val_loss: 0.4734 - val_accuracy: 0.7792\n",
            "Epoch 28/100\n",
            "313/313 [==============================] - 4s 14ms/step - loss: 0.4245 - accuracy: 0.8196 - val_loss: 0.4700 - val_accuracy: 0.7830\n",
            "Epoch 29/100\n",
            "313/313 [==============================] - 5s 15ms/step - loss: 0.4210 - accuracy: 0.8217 - val_loss: 0.4849 - val_accuracy: 0.7748\n",
            "Epoch 30/100\n",
            "313/313 [==============================] - 5s 15ms/step - loss: 0.4182 - accuracy: 0.8224 - val_loss: 0.4706 - val_accuracy: 0.7830\n",
            "Epoch 31/100\n",
            "313/313 [==============================] - 4s 14ms/step - loss: 0.4150 - accuracy: 0.8241 - val_loss: 0.4728 - val_accuracy: 0.7784\n"
          ]
        }
      ],
      "source": [
        "rmsprop = keras.optimizers.RMSprop(learning_rate=1e-4)\n",
        "model2.compile(optimizer=rmsprop, loss='binary_crossentropy', \n",
        "               metrics=['accuracy'])\n",
        "\n",
        "checkpoint_cb = keras.callbacks.ModelCheckpoint('best-embedding-model.h5', \n",
        "                                                save_best_only=True)\n",
        "early_stopping_cb = keras.callbacks.EarlyStopping(patience=3,\n",
        "                                                  restore_best_weights=True)\n",
        "\n",
        "history = model2.fit(train_seq, train_target, epochs=100, batch_size=64,\n",
        "                     validation_data=(val_seq, val_target),\n",
        "                     callbacks=[checkpoint_cb, early_stopping_cb])"
      ]
    },
    {
      "cell_type": "code",
      "execution_count": null,
      "metadata": {
        "colab": {
          "background_save": true
        },
        "id": "brUvKwLt6kQb",
        "outputId": "20094249-af83-42b8-cd15-6ba965c2f2b2"
      },
      "outputs": [
        {
          "data": {
            "image/png": "[encoded data removed]",
            "text/plain": [
              "<Figure size 432x288 with 1 Axes>"
            ]
          },
          "metadata": {},
          "output_type": "display_data"
        }
      ],
      "source": [
        "plt.plot(history.history['loss'])\n",
        "plt.plot(history.history['val_loss'])\n",
        "plt.xlabel('epoch')\n",
        "plt.ylabel('loss')\n",
        "plt.legend(['train', 'val'])\n",
        "plt.show()"
      ]
    }
  ],
  "metadata": {
    "colab": {
      "collapsed_sections": [],
      "provenance": [],
      "authorship_tag": "ABX9TyORYjcyaI5HN27YriK1Tmar",
      "include_colab_link": true
    },
    "kernelspec": {
      "display_name": "Python 3",
      "name": "python3"
    },
    "language_info": {
      "name": "python"
    }
  },
  "nbformat": 4,
  "nbformat_minor": 0
}